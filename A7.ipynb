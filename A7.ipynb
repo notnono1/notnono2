{
 "cells": [
  {
   "cell_type": "code",
   "execution_count": 1,
   "id": "a92abbd6-9a65-4a58-b524-10d45ea7e6ee",
   "metadata": {
    "tags": []
   },
   "outputs": [],
   "source": [
    "Sample_Sentences = \"I played the play playfully as the players were playing in the play with playfullness\""
   ]
  },
  {
   "cell_type": "code",
   "execution_count": 2,
   "id": "6e9e549b-cdec-4c64-b7e4-25120c65650c",
   "metadata": {
    "tags": []
   },
   "outputs": [
    {
     "name": "stderr",
     "output_type": "stream",
     "text": [
      "[nltk_data] Downloading package averaged_perceptron_tagger to\n",
      "[nltk_data]     C:\\Users\\aades\\AppData\\Roaming\\nltk_data...\n",
      "[nltk_data]   Package averaged_perceptron_tagger is already up-to-\n",
      "[nltk_data]       date!\n"
     ]
    },
    {
     "data": {
      "text/plain": [
       "True"
      ]
     },
     "execution_count": 2,
     "metadata": {},
     "output_type": "execute_result"
    }
   ],
   "source": [
    "import nltk \n",
    "nltk.download('averaged_perceptron_tagger') "
   ]
  },
  {
   "cell_type": "code",
   "execution_count": 3,
   "id": "44c5dde1-d580-4945-a7b6-96be58368519",
   "metadata": {
    "tags": []
   },
   "outputs": [
    {
     "name": "stderr",
     "output_type": "stream",
     "text": [
      "[nltk_data] Downloading package punkt to\n",
      "[nltk_data]     C:\\Users\\aades\\AppData\\Roaming\\nltk_data...\n",
      "[nltk_data]   Unzipping tokenizers\\punkt.zip.\n"
     ]
    },
    {
     "data": {
      "text/plain": [
       "True"
      ]
     },
     "execution_count": 3,
     "metadata": {},
     "output_type": "execute_result"
    }
   ],
   "source": [
    "from nltk.tokenize import sent_tokenize \n",
    "nltk.download('punkt')"
   ]
  },
  {
   "cell_type": "code",
   "execution_count": 4,
   "id": "9d8615a4-3519-4827-8371-71dfdf758aab",
   "metadata": {
    "tags": []
   },
   "outputs": [],
   "source": [
    "sentences= sent_tokenize(Sample_Sentences)"
   ]
  },
  {
   "cell_type": "code",
   "execution_count": 5,
   "id": "48a8b33c-d505-43d2-acdb-4f419365f1a2",
   "metadata": {
    "tags": []
   },
   "outputs": [
    {
     "data": {
      "text/plain": [
       "['I played the play playfully as the players were playing in the play with playfullness']"
      ]
     },
     "execution_count": 5,
     "metadata": {},
     "output_type": "execute_result"
    }
   ],
   "source": [
    "sentences"
   ]
  },
  {
   "cell_type": "code",
   "execution_count": 6,
   "id": "b1b0f34d-523a-4e30-b498-0e48c2392725",
   "metadata": {},
   "outputs": [
    {
     "name": "stdout",
     "output_type": "stream",
     "text": [
      "sentences words:  ['I played the play playfully as the players were playing in the play with playfullness']\n",
      "Tokenized words: [['I', 'played', 'the', 'play', 'playfully', 'as', 'the', 'players', 'were', 'playing', 'in', 'the', 'play', 'with', 'playfullness']]\n"
     ]
    }
   ],
   "source": [
    "from nltk import word_tokenize, sent_tokenize \n",
    "sentences = sent_tokenize(Sample_Sentences) \n",
    "tokenized_words = [word_tokenize(sentence) for sentence in sentences] \n",
    "print('sentences words: ',sentences ) \n",
    "print('Tokenized words:', tokenized_words)"
   ]
  },
  {
   "cell_type": "code",
   "execution_count": 7,
   "id": "4d71f9e4-1e6a-4fdc-9f4a-07bd5b426046",
   "metadata": {
    "tags": []
   },
   "outputs": [
    {
     "name": "stdout",
     "output_type": "stream",
     "text": [
      "Tagging Parts of Speech: [('I', 'PRP'), ('played', 'VBD'), ('the', 'DT'), ('play', 'NN'), ('playfully', 'RB'), ('as', 'IN'), ('the', 'DT'), ('players', 'NNS'), ('were', 'VBD'), ('playing', 'VBG'), ('in', 'IN'), ('the', 'DT'), ('play', 'NN'), ('with', 'IN'), ('playfullness', 'NN')]\n"
     ]
    }
   ],
   "source": [
    "from nltk import pos_tag \n",
    "tokenized_words = word_tokenize(Sample_Sentences) \n",
    "pos_tags = pos_tag(tokenized_words) \n",
    "print(\"Tagging Parts of Speech:\", pos_tags)"
   ]
  },
  {
   "cell_type": "code",
   "execution_count": 8,
   "id": "e7bdc7df-8716-4030-94be-086c69576a09",
   "metadata": {
    "tags": []
   },
   "outputs": [
    {
     "name": "stderr",
     "output_type": "stream",
     "text": [
      "[nltk_data] Downloading package stopwords to\n",
      "[nltk_data]     C:\\Users\\aades\\AppData\\Roaming\\nltk_data...\n",
      "[nltk_data]   Unzipping corpora\\stopwords.zip.\n"
     ]
    },
    {
     "data": {
      "text/plain": [
       "True"
      ]
     },
     "execution_count": 8,
     "metadata": {},
     "output_type": "execute_result"
    }
   ],
   "source": [
    "import nltk\n",
    "nltk.download('stopwords')"
   ]
  },
  {
   "cell_type": "code",
   "execution_count": 9,
   "id": "f9d417d9-6b26-4a05-9048-c4a3386ff81b",
   "metadata": {
    "tags": []
   },
   "outputs": [
    {
     "name": "stdout",
     "output_type": "stream",
     "text": [
      "Filtered Tokens after Stop Words Removal: ['played', 'play', 'playfully', 'players', 'playing', 'play', 'playfullness']\n"
     ]
    }
   ],
   "source": [
    "from nltk.corpus import stopwords \n",
    "stop_words = set(stopwords.words('english')) \n",
    "filtered_tokens = [word for word in tokenized_words if word.lower() not in stop_words] \n",
    "print(\"Filtered Tokens after Stop Words Removal:\", filtered_tokens)"
   ]
  },
  {
   "cell_type": "code",
   "execution_count": 10,
   "id": "67297e68-46ec-4d90-99df-331390862573",
   "metadata": {
    "tags": []
   },
   "outputs": [
    {
     "name": "stdout",
     "output_type": "stream",
     "text": [
      "Stemmed Tokens: ['play', 'play', 'play', 'player', 'play', 'play', 'playful']\n"
     ]
    }
   ],
   "source": [
    "from nltk.stem import PorterStemmer \n",
    "stemmer = PorterStemmer() \n",
    "stemmed_tokens = [stemmer.stem(word) for word in filtered_tokens] \n",
    "print(\"Stemmed Tokens:\", stemmed_tokens)"
   ]
  },
  {
   "cell_type": "code",
   "execution_count": 11,
   "id": "7dfc1bf9-8887-4662-b8f7-543a26bc70ad",
   "metadata": {
    "tags": []
   },
   "outputs": [
    {
     "name": "stderr",
     "output_type": "stream",
     "text": [
      "[nltk_data] Downloading package wordnet to\n",
      "[nltk_data]     C:\\Users\\aades\\AppData\\Roaming\\nltk_data...\n"
     ]
    },
    {
     "data": {
      "text/plain": [
       "True"
      ]
     },
     "execution_count": 11,
     "metadata": {},
     "output_type": "execute_result"
    }
   ],
   "source": [
    "nltk.download('wordnet')"
   ]
  },
  {
   "cell_type": "code",
   "execution_count": 12,
   "id": "94788fb2-c243-49c2-8bec-65fa6460a4c9",
   "metadata": {
    "tags": []
   },
   "outputs": [
    {
     "name": "stdout",
     "output_type": "stream",
     "text": [
      "Lemmatized Tokens: ['played', 'play', 'playfully', 'player', 'playing', 'play', 'playfullness']\n"
     ]
    }
   ],
   "source": [
    "from nltk.stem import WordNetLemmatizer \n",
    "lemmatizer = WordNetLemmatizer() \n",
    "lemmatized_tokens = [lemmatizer.lemmatize(word) for word in filtered_tokens] \n",
    "print(\"Lemmatized Tokens:\", lemmatized_tokens) \n"
   ]
  },
  {
   "cell_type": "code",
   "execution_count": 13,
   "id": "0afaaa6c-d083-49e8-868a-3c8c857c2895",
   "metadata": {
    "tags": []
   },
   "outputs": [],
   "source": [
    "preprocessed_text = ' '.join(lemmatized_tokens)"
   ]
  },
  {
   "cell_type": "code",
   "execution_count": 14,
   "id": "fa0fc4eb-b52a-4135-aec6-e33c634a333b",
   "metadata": {
    "tags": []
   },
   "outputs": [
    {
     "name": "stdout",
     "output_type": "stream",
     "text": [
      "Preprocessed Text: played play playfully player playing play playfullness\n",
      "\n",
      "TF-IDF Representation:\n",
      "[[0.66666667 0.33333333 0.33333333 0.33333333 0.33333333 0.33333333]]\n"
     ]
    }
   ],
   "source": [
    "from sklearn.feature_extraction.text import TfidfVectorizer \n",
    "tfidf_vectorizer = TfidfVectorizer() \n",
    "tfidf_representation = tfidf_vectorizer.fit_transform([preprocessed_text]) \n",
    "print(\"Preprocessed Text:\", preprocessed_text) \n",
    "print(\"\\nTF-IDF Representation:\") \n",
    "print(tfidf_representation.toarray()) "
   ]
  },
  {
   "cell_type": "code",
   "execution_count": null,
   "id": "287bb833-b9e5-46a8-a77d-8b70c55d29f1",
   "metadata": {},
   "outputs": [],
   "source": []
  }
 ],
 "metadata": {
  "kernelspec": {
   "display_name": "Python 3 (ipykernel)",
   "language": "python",
   "name": "python3"
  },
  "language_info": {
   "codemirror_mode": {
    "name": "ipython",
    "version": 3
   },
   "file_extension": ".py",
   "mimetype": "text/x-python",
   "name": "python",
   "nbconvert_exporter": "python",
   "pygments_lexer": "ipython3",
   "version": "3.11.5"
  }
 },
 "nbformat": 4,
 "nbformat_minor": 5
}
